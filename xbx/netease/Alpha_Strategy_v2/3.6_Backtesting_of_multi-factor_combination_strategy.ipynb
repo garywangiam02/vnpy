{
 "cells": [
  {
   "cell_type": "markdown",
   "metadata": {},
   "source": [
    "![](http://pic1.tsingdataedu.com/%E9%87%8F%E5%8C%96banner.jpg)"
   ]
  },
  {
   "cell_type": "markdown",
   "metadata": {},
   "source": [
    "# 回测多因子组合策略，提升自己策略的收益表现\n",
    "#### 《AI量化交易》课程案例 by @Alan "
   ]
  },
  {
   "cell_type": "code",
   "execution_count": 1,
   "metadata": {
    "collapsed": true
   },
   "outputs": [],
   "source": [
    "import pandas as pd\n",
    "import numpy as np\n",
    "import math\n",
    "import scipy.io as sio\n",
    "import os\n",
    "import matplotlib.pyplot as plt\n",
    "import sys\n",
    "from collections import Counter\n",
    "import multiprocessing\n",
    "import copy\n",
    "from sklearn.covariance import LedoitWolf\n",
    "from sklearn import linear_model"
   ]
  },
  {
   "cell_type": "markdown",
   "metadata": {},
   "source": [
    "### IC计算函数\n",
    "#### 《AI量化交易》课程案例 by @Alan "
   ]
  },
  {
   "cell_type": "code",
   "execution_count": null,
   "metadata": {
    "collapsed": true
   },
   "outputs": [],
   "source": [
    "\n",
    "# 输入因子dataframe、未来n天收益率dataframe，开始日期、结束日期，返回IC序列\n",
    "def get_IC(factor,re_future,startdate,enddate):\n",
    "    factor = factor.convert_objects(convert_numeric=True).loc[startdate:enddate]\n",
    "    IC = []\n",
    "    datelist = re_future.loc[startdate:enddate].index.tolist()\n",
    "    factor_arr = factor.values\n",
    "    re_future_arr = re_future.loc[startdate:enddate].values\n",
    "    dt_ind = []\n",
    "    if factor.shape[0]==len(datelist):\n",
    "        for dt in range(len(datelist)):\n",
    "            x = factor_arr[dt]\n",
    "            re = re_future_arr[dt]\n",
    "            if np.sum(np.logical_and(~np.isnan(x),~np.isnan(re)))>200:\n",
    "                dt_ind.append(dt)\n",
    "                ind=np.where(np.logical_and(~np.isnan(x),~np.isnan(re)))[0]\n",
    "                x = x[ind]\n",
    "                re = re[ind]\n",
    "                IC.append(stats.spearmanr(x, re, nan_policy='omit')[0])\n",
    "    IC_pd = pd.Series(index=datelist)\n",
    "    IC_pd[np.array(datelist)[dt_ind]] = IC\n",
    "\n",
    "    return IC_pd"
   ]
  },
  {
   "cell_type": "code",
   "execution_count": null,
   "metadata": {
    "collapsed": true
   },
   "outputs": [],
   "source": [
    "# 读取IC历史数据\n",
    "IC_all = pd.read_pickle(data_path+'IC_all.pkl')"
   ]
  },
  {
   "cell_type": "markdown",
   "metadata": {},
   "source": [
    "### 计算某日的因子权重\n",
    "#### 《AI量化交易》课程案例 by @Alan "
   ]
  },
  {
   "cell_type": "code",
   "execution_count": null,
   "metadata": {
    "collapsed": true
   },
   "outputs": [],
   "source": [
    "# IC_all列为因子，行为日期, date为当前日期，取前IC_length的IC数据,period表示IC的计算长度\n",
    "# 最后返回一个最优weight\n",
    "def get_weight(IC_all, factor_list,date, IC_length,period,weight_way,halflife=0):\n",
    "    IC_use_all = IC_all.loc[:date,factor_list].iloc[-IC_length-period:-period]\n",
    "    IC_use = copy.deepcopy(IC_use_all)\n",
    "\n",
    "    temp = -1\n",
    "    loc = []\n",
    "    for f in factor_list:\n",
    "        temp+=1\n",
    "        # 去掉IC缺失过多的因子\n",
    "        if Counter(np.isnan(IC_use[f]))[0]<IC_use.shape[0]*0.2:\n",
    "            loc.append(temp)\n",
    "            IC_use = IC_use.drop(f,1)\n",
    "\n",
    "    ind_valid = np.where(~np.isnan(IC_use.sum(axis=1,skipna=False).values))[0]  # 所有因子都有ic值的行index\n",
    "    IC_use = IC_use.iloc[ind_valid]\n",
    "    IC_mean = IC_use.mean(axis=0).values.reshape(IC_use.shape[1],1)\n",
    "    if weight_way =='ICIR_Ledoit':\n",
    "        lw = LedoitWolf()\n",
    "        IC_sig = lw.fit(IC_use.values).covariance_\n",
    "        weight = np.dot(np.linalg.inv(IC_sig),IC_mean)\n",
    "    \n",
    "    elif weight_way == 'ICIR_sigma':\n",
    "        IC_sig = np.cov(IC_use.values,rowvar=False)\n",
    "        weight = np.dot(np.linalg.inv(IC_sig),IC_mean)\n",
    "       \n",
    "    elif weight_way == 'ICIR':\n",
    "        IC_sig = (IC_use.std(axis=0)).values.reshape(IC_use.shape[1],1)\n",
    "        weight = IC_mean/IC_sig\n",
    "\n",
    "    elif weight_way == 'IC_halflife':\n",
    "        if halflife>0:\n",
    "            lam = pow(1/2,1/60)\n",
    "        else:\n",
    "            lam = 1\n",
    "        len_IC = IC_use.shape[0]\n",
    "        w = np.array([pow(lam,len_IC-1-i) for i in range(len_IC)])\n",
    "        w=w/sum(w)\n",
    "        weight = IC_use.mul(pd.Series(data=w,index=IC_use.index),axis=0).sum(axis=0).values\n",
    "\n",
    "    elif weight_way == 'ICIR_halflife':\n",
    "        if halflife>0:\n",
    "            lam = pow(1/2,1/halflife)\n",
    "        else:\n",
    "            lam = 1\n",
    "        len_IC = IC_use.shape[0]\n",
    "        w = np.array([pow(lam,len_IC-1-i) for i in range(len_IC)])\n",
    "        w=w/sum(w)\n",
    "        ic_mean = IC_use.mul(pd.Series(data=w,index=IC_use.index),axis=0).sum(axis=0)\n",
    "        ic_std = np.sqrt((np.power(IC_use-ic_mean,2)).mul(pd.Series(data=w,index=IC_use.index),axis=0).sum(axis=0))\n",
    "        weight = ic_mean.values/ic_std.values\n",
    "    \n",
    "    elif weight_way == 'equal':\n",
    "        weight = np.sign(IC_mean)\n",
    "        \n",
    "        \n",
    "    w = np.array([np.nan]*len(factor_list))\n",
    "    flag = 0\n",
    "    for i in range(len(factor_list)):\n",
    "        if i not in loc:\n",
    "            w[i] = weight[flag]\n",
    "            flag+=1\n",
    "        else:\n",
    "            w[i] = 0.0               #IC有效值过少，因子权重为0\n",
    "    weight = pd.Series(w,index=factor_list)   \n",
    "    \n",
    "\n",
    "    return weight"
   ]
  },
  {
   "cell_type": "code",
   "execution_count": null,
   "metadata": {
    "collapsed": true
   },
   "outputs": [],
   "source": [
    "# 用因子做自变量，下一期收益率做因变量，做回归，回归方式有ols、lasso正则化、岭回归（后两者用于防止过拟合）\n",
    "# 回归的系数即为所需要的权重\n",
    "# length为回看周期，period为因子与收益率间隔天数，interval为做回归的间隔天数\n",
    "def get_weight_reg_date(Factor_dict,date,re,length,period,interval,reg_type='ols'):\n",
    "\n",
    "    num_ = 0\n",
    "    factor_list = list(Factor_dict.values())\n",
    "    weight_mean = np.array([0.0]*len(factor_list))\n",
    "    \n",
    "    for ind in range(length,period-1,-interval):\n",
    "        factor_flatten = factor_list[0].loc[:date].iloc[-ind].values.flatten()\n",
    "        for i in range(1,len(factor_list)):\n",
    "            factor_flatten = np.c_[factor_flatten,factor_list[i].loc[:date].iloc[-ind].values.flatten()]\n",
    "\n",
    "        factor_flatten = pd.DataFrame(factor_flatten)\n",
    "        y = re.loc[:date].iloc[-ind+period].values.flatten()\n",
    "        y = pd.DataFrame(y)\n",
    "        valid_x = factor_flatten.dropna(axis=0,how='any')\n",
    "        valid_y = y.loc[valid_x.index]\n",
    "        valid_y = valid_y.dropna(axis=0,how='any')\n",
    "        valid_x = valid_x.loc[valid_y.index]\n",
    "        X = valid_x.values\n",
    "        Y = valid_y.values\n",
    "\n",
    "        if X.shape[0]>3:\n",
    "            num_+=1\n",
    "            if reg_type=='ols':\n",
    "\n",
    "                linearReg = linear_model.LinearRegression()\n",
    "                linearReg.fit(X,Y)\n",
    "                weight = linearReg.coef_[0]\n",
    "\n",
    "            elif reg_type=='lasso':\n",
    "                alphas = [0.001,0.002,0.005,0.01,0.02,0.05]\n",
    "                lassoReg = linear_model.LassoCV(alphas=alphas)\n",
    "                lassoReg.fit(X,Y)\n",
    "                weight = lassoReg.coef_\n",
    "\n",
    "            elif reg_type=='ridge':\n",
    "                alphas = [0.01,0.02,0.05,0.1,0.2,0.5,1]\n",
    "                ridgeReg = linear_model.RidgeCV(alphas=alphas)\n",
    "                ridgeReg.fit(X,Y)\n",
    "                weight = ridgeReg.coef_[0]\n",
    "        \n",
    "\n",
    "            weight_mean +=weight\n",
    "            \n",
    "    weight = pd.Series(weight_mean/num_,index=list(Factor_dict.keys()))\n",
    "    return weight"
   ]
  },
  {
   "cell_type": "markdown",
   "metadata": {},
   "source": [
    "### 因子合成\n",
    "#### 《AI量化交易》课程案例 by @Alan "
   ]
  },
  {
   "cell_type": "code",
   "execution_count": null,
   "metadata": {
    "collapsed": true
   },
   "outputs": [],
   "source": [
    "# 输入日期，输入方式，输入加权方式，输入整体factor值，得到整体处理后的factor值\n",
    "\n",
    "def get_factor_combine_date(date,factor_combine,Factor_dict,weight,weight_way,is_valid,factor_pro='rank'):\n",
    "\n",
    "    f_ind = -1\n",
    "    factor_exist = []\n",
    "    for f in Factor_dict.keys():\n",
    "\n",
    "        f_ind+=1\n",
    "        data = Factor_dict[f].loc[date]\n",
    "        \n",
    "        if factor_pro == 'rank':\n",
    "            rank_factor = data.rank()\n",
    "        else:\n",
    "            rank_factor = data\n",
    "        factor = data\n",
    "        \n",
    "        if weight_way=='ols' or weight_way=='lasso' or weight_way=='ridge':\n",
    "            factor_combine+=factor.fillna(0.0)*weight[f]\n",
    "            \n",
    "        else:\n",
    "            factor_combine+=rank_factor.fillna(rank_factor.mean())*weight[f]\n",
    "            \n",
    "    factor_combine[is_valid.loc[date:date]==0] = np.nan\n",
    "\n",
    "    return factor_combine"
   ]
  },
  {
   "cell_type": "code",
   "execution_count": null,
   "metadata": {
    "collapsed": true
   },
   "outputs": [],
   "source": [
    "def get_factor_combine(startdate,enddate,Factor_path,factor_list,is_valid,close_adj,IC_all=0,weight_way='equal',factor_pro='rank',halflife=0):\n",
    "    if type(startdate)==str:\n",
    "        startdate = pd.Timestamp(startdate)\n",
    "    \n",
    "    if type(enddate)==str:\n",
    "        enddate = pd.Timestamp(enddate)\n",
    "    \n",
    "    re = close_adj.pct_change(5).loc['20130104':enddate]\n",
    "    Factor_dict = {}\n",
    "    for f in factor_list:\n",
    "        Factor_dict[f] = (pd.read_pickle(Factor_path+f+'.pkl')).loc['20130104':enddate]\n",
    "    columns_ = is_valid.columns\n",
    "    index_ = is_valid.loc[startdate:enddate].index\n",
    "    factor_combine = pd.DataFrame(0., index=index_, columns=columns_)\n",
    "\n",
    "    pool = multiprocessing.Pool(processes=10)\n",
    "    result = []\n",
    "\n",
    "    interval = 10    #每隔interval天重新计算weight\n",
    "    i = 0\n",
    "    for dt in index_:\n",
    "        if i%interval == 0:\n",
    "            if weight_way=='ICIR_sigma' or weight_way=='ICIR_Ledoit' or weight_way=='ICIR' \\\n",
    "            or weight_way=='IC_halflife' or weight_way=='ICIR_halflife' or weight_way=='equal':\n",
    "                weight = get_weight(IC_all,factor_list,dt,120,5,weight_way,halflife)\n",
    "            elif weight_way=='ols' or weight_way=='lasso' or weight_way=='ridge':\n",
    "                weight = get_weight_reg_date(Factor_dict,dt,re,120,5,10,weight_way)\n",
    "        factor_combine_k = pd.DataFrame(0.,index=[dt],columns=columns_)\n",
    "        result.append(pool.apply_async(get_factor_combine_date,args=(dt,factor_combine_k,Factor_dict,weight,weight_way,is_valid,factor_pro)))\n",
    "        \n",
    "    for i,d in enumerate(result):\n",
    "        res = d.get()\n",
    "        print(res.index[0])\n",
    "        factor_combine.loc[res.index]=res\n",
    "\n",
    "    pool.close()\n",
    "    pool.join()\n",
    "        \n",
    "\n",
    "    return factor_combine"
   ]
  },
  {
   "cell_type": "code",
   "execution_count": null,
   "metadata": {
    "collapsed": true,
    "scrolled": true
   },
   "outputs": [],
   "source": [
    "startdate = '20160101'\n",
    "enddate = '20161231'\n",
    "\n",
    "# 等权\n",
    "# act_equal = get_factor_combine(startdate,enddate,data_path,factor_list,is_valid,close_adj,IC_all,weight_way='equal',factor_pro='rank',halflife=0)\n",
    "\n",
    "# IC加权\n",
    "# act_ic = get_factor_combine(startdate,enddate,data_path,factor_list,is_valid,close_adj,IC_all,weight_way='IC_halflife',factor_pro='rank',halflife=0)\n",
    "\n",
    "# ICIR加权\n",
    "# act_icir = get_factor_combine(startdate,enddate,data_path,factor_list,is_valid,close_adj,IC_all,weight_way='ICIR',factor_pro='rank',halflife=0)\n",
    "\n",
    "# 最优复合ICIR加权\n",
    "# act_icir_sigma = get_factor_combine(startdate,enddate,data_path,factor_list,is_valid,close_adj,IC_all,weight_way='ICIR_sigma',factor_pro='rank',halflife=0)\n",
    "\n",
    "# 最优复合ICIR加权（Ledoit调整）\n",
    "# act_icir_Ledoit = get_factor_combine(startdate,enddate,data_path,factor_list,is_valid,close_adj,IC_all,weight_way='ICIR_Ledoit',factor_pro='rank',halflife=0)\n",
    "\n",
    "# ols回归加权\n",
    "act_ols = get_factor_combine(startdate,enddate,data_path,factor_list,is_valid,close_adj,IC_all,weight_way='ols',factor_pro='rank',halflife=0)"
   ]
  },
  {
   "cell_type": "code",
   "execution_count": null,
   "metadata": {
    "collapsed": true
   },
   "outputs": [],
   "source": [
    "# act_equal.to_pickle('./act_equal.pkl')\n",
    "# act_ic.to_pickle('./act_ic.pkl')\n",
    "# act_icir.to_pickle('./act_icir.pkl')\n",
    "# act_icir_sigma.to_pickle('./act_icir_sigma.pkl')\n",
    "# act_icir_Ledoit.to_pickle('./act_icir_Ledoit.pkl')\n",
    "act_ols.to_pickle('./act_ols.pkl')"
   ]
  },
  {
   "cell_type": "markdown",
   "metadata": {
    "collapsed": true
   },
   "source": [
    "### 版权归 © 稀牛学院 所有 保留所有权利\n",
    "![](http://pic1.tsingdataedu.com/%E7%A8%80%E7%89%9B%20x%20%E7%BD%91%E6%98%93.png)"
   ]
  }
 ],
 "metadata": {
  "kernelspec": {
   "display_name": "Python 3",
   "language": "python",
   "name": "python3"
  },
  "language_info": {
   "codemirror_mode": {
    "name": "ipython",
    "version": 3
   },
   "file_extension": ".py",
   "mimetype": "text/x-python",
   "name": "python",
   "nbconvert_exporter": "python",
   "pygments_lexer": "ipython3",
   "version": "3.5.2"
  }
 },
 "nbformat": 4,
 "nbformat_minor": 2
}
