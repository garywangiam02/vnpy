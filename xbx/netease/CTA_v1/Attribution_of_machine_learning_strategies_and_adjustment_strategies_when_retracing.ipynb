{
 "cells": [
  {
   "cell_type": "markdown",
   "metadata": {},
   "source": [
    "![](http://pic1.tsingdataedu.com/%E9%87%8F%E5%8C%96banner.jpg)"
   ]
  },
  {
   "cell_type": "markdown",
   "metadata": {},
   "source": [
    "# 机器学习策略的归因与回撤时的调整策略\n",
    "#### \\[稀牛学院 x 网易云课程\\]《AI量化交易》课程资料 by [老喵]"
   ]
  },
  {
   "cell_type": "markdown",
   "metadata": {},
   "source": [
    "Boruta是一种特征选择算法。精确地说，它是随机森林周围的一种延伸算法。\n",
    "\n",
    "### Boruta算法运行的步骤：\n",
    "\n",
    "1.首先，它通过创建混合副本的所有特征（即阴影特征）为给定的数据集增加了随机性。阴影特征就是把许多打乱后的特征作为新的特征<br>\n",
    "2.然后，它训练一个随机森林分类的扩展数据集，并计算特征重要性，以评估的每个特征的重要性，越高则意味着越重要。<br>\n",
    "3.在每次迭代中，它检查一个真实特征是否比最好的阴影特征具有统计显著的更高（低）的重要性（即该特征是否比最大的阴影特征得分更高），如果是，则确认（拒绝）。它会删除它视为拒绝的特征，然后回到第1步。<br>\n",
    "4.最后，当所有特征得到确认或拒绝，或算法达到随机森林运行的一个规定的限制时，算法停止。"
   ]
  },
  {
   "cell_type": "markdown",
   "metadata": {},
   "source": [
    "### 重点函数说明\n",
    "boruta.train\\$finalDecision含义是对于每个特征，这个特征是否显著\n",
    "boruta.train\\$ImpHistory含义是对于每个特征，每次迭代的重要性。因此boruta.train\\$ImpHistory是个矩阵，这个矩阵的行是每次迭代，列是每个特征的特征名称"
   ]
  },
  {
   "cell_type": "code",
   "execution_count": 1,
   "metadata": {},
   "outputs": [
    {
     "name": "stderr",
     "output_type": "stream",
     "text": [
      "also installing the dependency ‘ranger’\n",
      "\n",
      "Updating HTML index of packages in '.Library'\n",
      "Making 'packages.html' ... done\n",
      "Loading required package: ranger\n"
     ]
    }
   ],
   "source": [
    "install.packages(\"Boruta\")\n",
    "library(Boruta)"
   ]
  },
  {
   "cell_type": "code",
   "execution_count": 2,
   "metadata": {},
   "outputs": [
    {
     "data": {
      "text/html": [
       "<table>\n",
       "<thead><tr><th></th><th scope=col>R1000</th><th scope=col>Time</th><th scope=col>prevClose_prevSettle</th><th scope=col>prevClose_prevOpen</th><th scope=col>todayOpen_prevClose</th><th scope=col>start1000</th><th scope=col>maxpT1000</th><th scope=col>minpT1000</th></tr></thead>\n",
       "<tbody>\n",
       "\t<tr><th scope=row>2</th><td> 0.01941739 </td><td>2007-01-16  </td><td>0.006537017 </td><td> 0.05069469 </td><td> 0.011509464</td><td> 0.003219862</td><td>0.003403498 </td><td>-0.004800431</td></tr>\n",
       "\t<tr><th scope=row>3</th><td>-0.01248719 </td><td>2007-01-17  </td><td>0.004491443 </td><td> 0.02269978 </td><td> 0.005476843</td><td>-0.002361259</td><td>0.003159798 </td><td>-0.005408293</td></tr>\n",
       "\t<tr><th scope=row>4</th><td> 0.03707433 </td><td>2007-01-18  </td><td>0.005328546 </td><td>-0.01481897 </td><td>-0.007226681</td><td>-0.004991737</td><td>0.012620860 </td><td>-0.004991737</td></tr>\n",
       "\t<tr><th scope=row>5</th><td> 0.01880145 </td><td>2007-01-19  </td><td>0.007502478 </td><td> 0.03189753 </td><td> 0.009615887</td><td> 0.006804702</td><td>0.007168518 </td><td> 0.000000000</td></tr>\n",
       "\t<tr><th scope=row>6</th><td> 0.02618957 </td><td>2007-01-22  </td><td>0.005121043 </td><td> 0.02573409 </td><td> 0.016608802</td><td> 0.002654057</td><td>0.002654057 </td><td>-0.005073543</td></tr>\n",
       "\t<tr><th scope=row>7</th><td> 0.01570678 </td><td>2007-01-23  </td><td>0.006499589 </td><td> 0.02891314 </td><td> 0.003721581</td><td>-0.017898970</td><td>0.000000000 </td><td>-0.017898970</td></tr>\n",
       "</tbody>\n",
       "</table>\n"
      ],
      "text/latex": [
       "\\begin{tabular}{r|llllllll}\n",
       "  & R1000 & Time & prevClose\\_prevSettle & prevClose\\_prevOpen & todayOpen\\_prevClose & start1000 & maxpT1000 & minpT1000\\\\\n",
       "\\hline\n",
       "\t2 &  0.01941739  & 2007-01-16   & 0.006537017  &  0.05069469  &  0.011509464 &  0.003219862 & 0.003403498  & -0.004800431\\\\\n",
       "\t3 & -0.01248719  & 2007-01-17   & 0.004491443  &  0.02269978  &  0.005476843 & -0.002361259 & 0.003159798  & -0.005408293\\\\\n",
       "\t4 &  0.03707433  & 2007-01-18   & 0.005328546  & -0.01481897  & -0.007226681 & -0.004991737 & 0.012620860  & -0.004991737\\\\\n",
       "\t5 &  0.01880145  & 2007-01-19   & 0.007502478  &  0.03189753  &  0.009615887 &  0.006804702 & 0.007168518  &  0.000000000\\\\\n",
       "\t6 &  0.02618957  & 2007-01-22   & 0.005121043  &  0.02573409  &  0.016608802 &  0.002654057 & 0.002654057  & -0.005073543\\\\\n",
       "\t7 &  0.01570678  & 2007-01-23   & 0.006499589  &  0.02891314  &  0.003721581 & -0.017898970 & 0.000000000  & -0.017898970\\\\\n",
       "\\end{tabular}\n"
      ],
      "text/markdown": [
       "\n",
       "| <!--/--> | R1000 | Time | prevClose_prevSettle | prevClose_prevOpen | todayOpen_prevClose | start1000 | maxpT1000 | minpT1000 | \n",
       "|---|---|---|---|---|---|\n",
       "| 2 |  0.01941739  | 2007-01-16   | 0.006537017  |  0.05069469  |  0.011509464 |  0.003219862 | 0.003403498  | -0.004800431 | \n",
       "| 3 | -0.01248719  | 2007-01-17   | 0.004491443  |  0.02269978  |  0.005476843 | -0.002361259 | 0.003159798  | -0.005408293 | \n",
       "| 4 |  0.03707433  | 2007-01-18   | 0.005328546  | -0.01481897  | -0.007226681 | -0.004991737 | 0.012620860  | -0.004991737 | \n",
       "| 5 |  0.01880145  | 2007-01-19   | 0.007502478  |  0.03189753  |  0.009615887 |  0.006804702 | 0.007168518  |  0.000000000 | \n",
       "| 6 |  0.02618957  | 2007-01-22   | 0.005121043  |  0.02573409  |  0.016608802 |  0.002654057 | 0.002654057  | -0.005073543 | \n",
       "| 7 |  0.01570678  | 2007-01-23   | 0.006499589  |  0.02891314  |  0.003721581 | -0.017898970 | 0.000000000  | -0.017898970 | \n",
       "\n",
       "\n"
      ],
      "text/plain": [
       "  R1000       Time       prevClose_prevSettle prevClose_prevOpen\n",
       "2  0.01941739 2007-01-16 0.006537017           0.05069469       \n",
       "3 -0.01248719 2007-01-17 0.004491443           0.02269978       \n",
       "4  0.03707433 2007-01-18 0.005328546          -0.01481897       \n",
       "5  0.01880145 2007-01-19 0.007502478           0.03189753       \n",
       "6  0.02618957 2007-01-22 0.005121043           0.02573409       \n",
       "7  0.01570678 2007-01-23 0.006499589           0.02891314       \n",
       "  todayOpen_prevClose start1000    maxpT1000   minpT1000   \n",
       "2  0.011509464         0.003219862 0.003403498 -0.004800431\n",
       "3  0.005476843        -0.002361259 0.003159798 -0.005408293\n",
       "4 -0.007226681        -0.004991737 0.012620860 -0.004991737\n",
       "5  0.009615887         0.006804702 0.007168518  0.000000000\n",
       "6  0.016608802         0.002654057 0.002654057 -0.005073543\n",
       "7  0.003721581        -0.017898970 0.000000000 -0.017898970"
      ]
     },
     "metadata": {},
     "output_type": "display_data"
    }
   ],
   "source": [
    "load(\"./data/ATST_train_IC.RData\")\n",
    "data_hour_IC=list()\n",
    "data_hour_IC[[1]]=ATST_train_IC[,c(5,1,34,35,36,12,19,26)]\n",
    "data_hour_IC[[2]]=ATST_train_IC[,c(6,1,34,35,36,12,13,20,27)]\n",
    "data_hour_IC[[3]]=ATST_train_IC[,c(7,1,34,35,36,12,13,14,21,28)]\n",
    "data_hour_IC[[4]]=ATST_train_IC[,c(8,1,34,35,36,12,13,14,15,22,29)]\n",
    "data_hour_IC[[5]]=ATST_train_IC[,c(9,1,34,35,36,12,13,14,15,16,23,30)]\n",
    "data_hour_IC[[6]]=ATST_train_IC[,c(10,1,34,35,36,12,13,14,15,16,17,24,31)]\n",
    "data_hour_IC[[7]]=ATST_train_IC[,c(11,1,34,35,36,12,13,14,15,16,17,18,25,32)]\n",
    "head(data_hour_IC[[1]])"
   ]
  },
  {
   "cell_type": "code",
   "execution_count": 3,
   "metadata": {
    "collapsed": true
   },
   "outputs": [],
   "source": [
    "Fea_Sel<-function(traindata){\n",
    "  boruta.train=Boruta(CloseR~., data=traindata, doTrace=2)\n",
    "  boruta.train$finalDecision\n",
    "  plot(boruta.train,xlab=\"\",xaxt=\"n\")\n",
    "  lz=lapply(1:ncol(boruta.train$ImpHistory),function(i) boruta.train$ImpHistory[is.finite(boruta.train$ImpHistory[,i]),i])\n",
    "  names(lz)=colnames(boruta.train$ImpHistory)\n",
    "  Labels=sort(sapply(lz,median))\n",
    "  axis(side=1,las=2,labels = names(Labels),at=1:ncol(boruta.train$ImpHistory), cex.axis=0.7)\n",
    "  return(boruta.train$finalDecision)\n",
    "}"
   ]
  },
  {
   "cell_type": "code",
   "execution_count": 4,
   "metadata": {},
   "outputs": [
    {
     "name": "stderr",
     "output_type": "stream",
     "text": [
      " 1. run of importance source...\n",
      " 2. run of importance source...\n",
      " 3. run of importance source...\n",
      " 4. run of importance source...\n",
      " 5. run of importance source...\n",
      " 6. run of importance source...\n",
      " 7. run of importance source...\n",
      " 8. run of importance source...\n",
      " 9. run of importance source...\n",
      " 10. run of importance source...\n",
      "After 10 iterations, +51 secs: \n",
      " confirmed 6 attributes: maxpT1000, minpT1000, prevClose_prevOpen, prevClose_prevSettle, start1000 and 1 more;\n",
      " no more attributes left.\n",
      "\n"
     ]
    },
    {
     "data": {
      "text/html": [
       "<dl class=dl-horizontal>\n",
       "\t<dt>prevClose_prevSettle</dt>\n",
       "\t\t<dd>Confirmed</dd>\n",
       "\t<dt>prevClose_prevOpen</dt>\n",
       "\t\t<dd>Confirmed</dd>\n",
       "\t<dt>todayOpen_prevClose</dt>\n",
       "\t\t<dd>Confirmed</dd>\n",
       "\t<dt>start1000</dt>\n",
       "\t\t<dd>Confirmed</dd>\n",
       "\t<dt>maxpT1000</dt>\n",
       "\t\t<dd>Confirmed</dd>\n",
       "\t<dt>minpT1000</dt>\n",
       "\t\t<dd>Confirmed</dd>\n",
       "</dl>\n"
      ],
      "text/latex": [
       "\\begin{description*}\n",
       "\\item[prevClose\\textbackslash{}\\_prevSettle] Confirmed\n",
       "\\item[prevClose\\textbackslash{}\\_prevOpen] Confirmed\n",
       "\\item[todayOpen\\textbackslash{}\\_prevClose] Confirmed\n",
       "\\item[start1000] Confirmed\n",
       "\\item[maxpT1000] Confirmed\n",
       "\\item[minpT1000] Confirmed\n",
       "\\end{description*}\n"
      ],
      "text/markdown": [
       "prevClose_prevSettle\n",
       ":   ConfirmedprevClose_prevOpen\n",
       ":   ConfirmedtodayOpen_prevClose\n",
       ":   Confirmedstart1000\n",
       ":   ConfirmedmaxpT1000\n",
       ":   ConfirmedminpT1000\n",
       ":   Confirmed\n",
       "\n"
      ],
      "text/plain": [
       "prevClose_prevSettle   prevClose_prevOpen  todayOpen_prevClose \n",
       "           Confirmed            Confirmed            Confirmed \n",
       "           start1000            maxpT1000            minpT1000 \n",
       "           Confirmed            Confirmed            Confirmed \n",
       "Levels: Tentative Confirmed Rejected"
      ]
     },
     "metadata": {},
     "output_type": "display_data"
    },
    {
     "data": {
      "image/png": "[encoded data removed]",
      "text/plain": [
       "plot without title"
      ]
     },
     "metadata": {},
     "output_type": "display_data"
    }
   ],
   "source": [
    "ATAT_train=data_hour_IC[[1]]\n",
    "names(ATAT_train)[1]='CloseR'\n",
    "ATAT_train=na.omit(ATAT_train)\n",
    "Fea_Sel(ATAT_train[,-2])"
   ]
  },
  {
   "cell_type": "markdown",
   "metadata": {},
   "source": [
    "## 版权归 © 稀牛学院 所有 保留所有权利\n",
    "![](http://pic1.tsingdataedu.com/%E7%A8%80%E7%89%9B%20x%20%E7%BD%91%E6%98%93.png)"
   ]
  }
 ],
 "metadata": {
  "kernelspec": {
   "display_name": "R",
   "language": "R",
   "name": "ir"
  },
  "language_info": {
   "codemirror_mode": "r",
   "file_extension": ".r",
   "mimetype": "text/x-r-source",
   "name": "R",
   "pygments_lexer": "r",
   "version": "3.3.2"
  }
 },
 "nbformat": 4,
 "nbformat_minor": 2
}
