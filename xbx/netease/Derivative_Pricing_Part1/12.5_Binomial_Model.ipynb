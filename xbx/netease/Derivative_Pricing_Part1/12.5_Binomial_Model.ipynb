{
 "cells": [
  {
   "cell_type": "markdown",
   "metadata": {},
   "source": [
    "![](http://pic1.tsingdataedu.com/%E9%87%8F%E5%8C%96banner.jpg)"
   ]
  },
  {
   "cell_type": "markdown",
   "metadata": {},
   "source": [
    "# 二叉树模型\n",
    "####  [稀牛学院 x 网易云课程]《AI量化交易》 by @Frank"
   ]
  },
  {
   "cell_type": "markdown",
   "metadata": {},
   "source": [
    "我们先看一种教科书版本的二叉树模型。这里首先初始化变量名"
   ]
  },
  {
   "cell_type": "code",
   "execution_count": 4,
   "metadata": {
    "collapsed": true
   },
   "outputs": [],
   "source": [
    "import numpy as np\n",
    "\n",
    "S0 = 100    # initial stock level\n",
    "T = 1.0     # time to maturity\n",
    "r = 0.05    # risk free rate\n",
    "vol = 0.20  # volatility\n",
    "M = 3    # time stpes\n",
    "dt = T/M    # length of time interval\n",
    "df = np.exp(-r*dt) \n",
    "u = np.exp(vol*np.sqrt(dt))\n",
    "d = 1/u\n",
    "    \n",
    "optype='P'\n",
    "extype='E'\n",
    "strike=100\n",
    "   "
   ]
  },
  {
   "cell_type": "markdown",
   "metadata": {},
   "source": [
    "这里我们生成了the binomial tree."
   ]
  },
  {
   "cell_type": "code",
   "execution_count": 5,
   "metadata": {},
   "outputs": [
    {
     "name": "stdout",
     "output_type": "stream",
     "text": [
      "[[100.         112.24009024 125.97837858 141.39824581]\n",
      " [  0.          89.09472523 100.         112.24009024]\n",
      " [  0.           0.          79.37870064  89.09472523]\n",
      " [  0.           0.           0.          70.72223522]]\n"
     ]
    }
   ],
   "source": [
    "# generate tree\n",
    "S = np.zeros((M+1,M+1), dtype=np.float64)\n",
    "S[0,0] = S0\n",
    "for j in range(1, M+1, 1):\n",
    "    for i in range(j+1):\n",
    "        S[i,j] = S[0,0]*u**(j-2*i)\n",
    "print(S)\n"
   ]
  },
  {
   "cell_type": "code",
   "execution_count": 6,
   "metadata": {},
   "outputs": [
    {
     "name": "stdout",
     "output_type": "stream",
     "text": [
      "6.166813542022532\n"
     ]
    }
   ],
   "source": [
    "    # calculte intrinsic value\n",
    "    iv = np.zeros((M+1,M+1), dtype=np.float64)\n",
    "    for j in range(M+1):\n",
    "        for i in range(j+1):\n",
    "            if optype=='C':\n",
    "                iv[i,j] = max(S[i,j]-strike, 0)\n",
    "            else:\n",
    "               iv[i,j] = max(strike-S[i,j], 0)\n",
    "           \n",
    "    # valuation\n",
    "    pv = np.zeros((M+1,M+1), dtype=np.float64)\n",
    "    pv[:,M] = iv[:,M]\n",
    "    q = (np.exp(r*dt) - d) / (u - d)\n",
    "    for j in range(M-1, -1, -1):\n",
    "        for i in range(j+1):\n",
    "            pv[i,j] = (q*pv[i,j+1]+(1-q)*pv[i+1,j+1])*df\n",
    "            if extype=='E':\n",
    "                pv[i,j] = pv[i,j]\n",
    "            else: \n",
    "                pv[i,j] = max(pv[i,j], iv[i,j])\n",
    "    print(pv[0,0])\n"
   ]
  },
  {
   "cell_type": "markdown",
   "metadata": {},
   "source": [
    "上面就是一个欧式看涨期权的二叉树模型，虽然公式有些烦，但编程并不复杂。这样的程序修改起来很麻烦。我们应该把它写成函数的形式。"
   ]
  },
  {
   "cell_type": "code",
   "execution_count": 7,
   "metadata": {},
   "outputs": [
    {
     "name": "stdout",
     "output_type": "stream",
     "text": [
      "5.569527586516085\n",
      "5.571526553833351\n"
     ]
    }
   ],
   "source": [
    "import numpy as np\n",
    "def binomial(strike, M, optype, extype):\n",
    "    # optype 'C' = call, 'P' = put\n",
    "    # extype 'E' = european, 'A' = american \n",
    "    # M is time steps\n",
    "    \n",
    "    # set model paramters\n",
    "    S0 = 100    # initial stock level\n",
    "    T = 1.0     # time to maturity\n",
    "    r = 0.05    # risk free rate\n",
    "    vol = 0.20  # volatility\n",
    "    dt = T/M    # length of time interval\n",
    "    df = np.exp(-r*dt) \n",
    "    u = np.exp(vol*np.sqrt(dt))\n",
    "    d = 1/u\n",
    "    q = (np.exp(r*dt) - d) / (u - d)\n",
    "   \n",
    "    # generate tree\n",
    "    S = np.zeros((M+1,M+1), dtype=np.float64)\n",
    "    S[0,0] = S0\n",
    "    for j in range(1, M+1, 1):\n",
    "        for i in range(j+1):\n",
    "            S[i,j] = S[0,0]*u**(j-2*i)\n",
    "    #print(S)\n",
    "    # calculte intrinsic value\n",
    "    iv = np.zeros((M+1,M+1), dtype=np.float64)\n",
    "    for j in range(M+1):\n",
    "        for i in range(j+1):\n",
    "            if optype=='C':\n",
    "                iv[i,j] = max(S[i,j]-strike, 0)\n",
    "            else:\n",
    "               iv[i,j] = max(strike-S[i,j], 0)\n",
    "           \n",
    "    # valuation\n",
    "    pv = np.zeros((M+1,M+1), dtype=np.float64)\n",
    "    pv[:,M] = iv[:,M]\n",
    "    for j in range(M-1, -1, -1):\n",
    "        for i in range(j+1):\n",
    "            pv[i,j] = (q*pv[i,j+1]+(1-q)*pv[i+1,j+1])*df\n",
    "            if extype=='E':\n",
    "                pv[i,j] = pv[i,j]\n",
    "            else:\n",
    "                pv[i,j] = max(pv[i,j], iv[i,j])\n",
    "           \n",
    "    return pv[0,0]\n",
    "print(binomial(100, 500, optype='P', extype='E'))\n",
    "print(binomial(100, 1000, optype='P', extype='E'))"
   ]
  },
  {
   "cell_type": "markdown",
   "metadata": {},
   "source": [
    "但现实中，一个模型必定存在于一个广泛的库里。这个模型可能使用了很多其他的工具，你的工作也将会被很多其他人使用。所以，我们需要面向对象class的编程。非常庞大的问题，只能由面向对象编程来实现。每一个对象被封装起来，不能被改动，别人可以在不完全理解你程序细节的情况下，基于你的工作，进行拓展。"
   ]
  },
  {
   "cell_type": "markdown",
   "metadata": {},
   "source": [
    "这里我们首先设计了一个class，它从yahoo网站下载数据。"
   ]
  },
  {
   "cell_type": "code",
   "execution_count": 8,
   "metadata": {},
   "outputs": [
    {
     "name": "stderr",
     "output_type": "stream",
     "text": [
      "/opt/conda/lib/python3.5/site-packages/statsmodels/compat/pandas.py:56: FutureWarning: The pandas.core.datetools module is deprecated and will be removed in a future version. Please use the pandas.tseries module instead.\n",
      "  from pandas.core import datetools\n"
     ]
    },
    {
     "name": "stdout",
     "output_type": "stream",
     "text": [
      "[*********************100%***********************]  1 of 1 downloaded\n",
      "Date\n",
      "2016-01-05   -0.025379\n",
      "2016-01-06   -0.019764\n",
      "2016-01-07   -0.043121\n",
      "2016-01-08    0.005274\n",
      "2016-01-11    0.016062\n",
      "2016-01-12    0.014409\n",
      "2016-01-13   -0.026046\n",
      "2016-01-14    0.021635\n",
      "2016-01-15   -0.024308\n",
      "2016-01-19   -0.004851\n",
      "2016-01-20    0.001344\n",
      "2016-01-21   -0.005075\n",
      "2016-01-22    0.051802\n",
      "2016-01-25   -0.019716\n",
      "2016-01-26    0.005516\n",
      "2016-01-27   -0.067965\n",
      "2016-01-28    0.007146\n",
      "2016-01-29    0.033958\n",
      "2016-02-01   -0.009393\n",
      "2016-02-02   -0.020429\n",
      "2016-02-03    0.019599\n",
      "2016-02-04    0.008003\n",
      "2016-02-05   -0.027071\n",
      "2016-02-08    0.010475\n",
      "2016-02-09   -0.000210\n",
      "2016-02-10   -0.007609\n",
      "2016-02-11   -0.006065\n",
      "2016-02-12    0.003090\n",
      "2016-02-16    0.027804\n",
      "2016-02-17    0.015199\n",
      "2016-02-18   -0.019138\n",
      "2016-02-19   -0.002288\n",
      "2016-02-22    0.008708\n",
      "2016-02-23   -0.022864\n",
      "2016-02-24    0.014781\n",
      "2016-02-25    0.006844\n",
      "2016-02-26    0.001549\n",
      "2016-02-29   -0.002273\n",
      "Name: log, dtype: float64\n"
     ]
    },
    {
     "data": {
      "image/png": "[encoded data removed]",
      "text/plain": [
       "<Figure size 432x288 with 1 Axes>"
      ]
     },
     "metadata": {},
     "output_type": "display_data"
    }
   ],
   "source": [
    "import numpy as np\n",
    "import pandas as pd\n",
    "import pandas_datareader.data as pdr\n",
    "import fix_yahoo_finance as yf\n",
    "import arch\n",
    "import matplotlib.pyplot as plt\n",
    "from statsmodels.graphics.tsaplots import plot_acf\n",
    "yf.pdr_override()\n",
    "\n",
    "\n",
    "class stock_vol:\n",
    "\n",
    "    def __init__(self, tk, start, end):\n",
    "        self.tk = tk\n",
    "        self.start = start\n",
    "        self.end = end\n",
    "        all_data = pdr.get_data_yahoo(self.tk, start=self.start, end=self.end)\n",
    "        self.stock_data = pd.DataFrame(all_data['Adj Close'], columns=[\"Adj Close\"])\n",
    "        self.stock_data[\"log\"] = np.log(self.stock_data)-np.log(self.stock_data.shift(1))\n",
    "\n",
    "    def mean_sigma(self):\n",
    "        st = self.stock_data[\"log\"].dropna().ewm(span=252).std()\n",
    "        sigma = st.iloc[-1]\n",
    "        return sigma\n",
    "\n",
    "    def garch_sigma(self):\n",
    "        model = arch.arch_model(self.stock_data[\"log\"].dropna(), mean='Zero', vol='GARCH', p=1, q=1)\n",
    "        model_fit = model.fit()\n",
    "        forecast = model_fit.forecast(horizon=1)\n",
    "        var = forecast.variance.iloc[-1]\n",
    "        sigma = float(np.sqrt(var))\n",
    "        return sigma\n",
    "\n",
    "\n",
    "if __name__ == \"__main__\":\n",
    "    vol = stock_vol(\"AAPL\", start=\"2016-01-01\", end=\"2016-03-01\")\n",
    "    test = vol.stock_data[\"log\"].dropna()\n",
    "    print(test)\n",
    "    fig = plot_acf(test)\n",
    "    plt.show()\n"
   ]
  },
  {
   "cell_type": "markdown",
   "metadata": {},
   "source": [
    "下面有一个宽泛的class，这是一个股票期权class。里面描述了一个普通的股票期权具备的特征，我们的工作，可以基于这个class发展起来。"
   ]
  },
  {
   "cell_type": "code",
   "execution_count": 1,
   "metadata": {
    "collapsed": true
   },
   "outputs": [],
   "source": [
    "import math\n",
    "#from stock_volatility import stock_vol\n",
    "\n",
    "\n",
    "class stockoption():\n",
    "\n",
    "    def __init__(self, S0, K, r, T, N, prm):\n",
    "        \"\"\"\n",
    "        Initialise parameters\n",
    "        :param S0: initial stock price\n",
    "        :param K: strike price\n",
    "        :param r: risk free interest rate per year\n",
    "        :param T: length of option in years\n",
    "        :param N: number of binomial iterations\n",
    "        :param prm: dictionary with additional parameters\n",
    "        \"\"\"\n",
    "        self.S0 = S0\n",
    "        self.K = K\n",
    "        self.r = r\n",
    "        self.T = T\n",
    "        self.N = N\n",
    "        \"\"\"\n",
    "        prm parameters:\n",
    "        start = date from when you want to analyse stocks, \"yyyy-mm-dd\"\n",
    "        end = date of final stock analysis (likely current date), \"yyyy-mm-dd\"\n",
    "        tk = ticker label\n",
    "        div = dividend paid\n",
    "        is_calc = is volatility calculated using stock price history, boolean\n",
    "        use_garch = use GARCH model, boolean\n",
    "        sigma = volatility of stock\n",
    "        is_call = is it a call option, boolean\n",
    "        eu_option = European or American option, boolean\n",
    "        \"\"\"\n",
    "        self.tk = prm.get('tk', None)\n",
    "        self.start = prm.get('start', None)\n",
    "        self.end = prm.get('end', None)\n",
    "        self.div = prm.get('div', 0)\n",
    "        self.is_calc = prm.get('is_calc', False)\n",
    "        self.use_garch = prm.get('use_garch', False)\n",
    "        self.vol = stock_vol(self.tk, self.start, self.end)\n",
    "        if self.is_calc:\n",
    "            if self.use_garch:\n",
    "                self.sigma = self.vol.garch_sigma()\n",
    "            else:\n",
    "                self.sigma = self.vol.mean_sigma()\n",
    "        else:\n",
    "            self.sigma = prm.get('sigma', 0)\n",
    "        self.is_call = prm.get('is_call', True)\n",
    "        self.eu_option = prm.get('eu_option', True)\n",
    "        '''\n",
    "        derived values:\n",
    "        dt = time per step, in years\n",
    "        df = discount factor\n",
    "        '''\n",
    "        self.dt = T/float(N)\n",
    "        self.df = math.exp(-(r-self.div)*self.dt)\n"
   ]
  },
  {
   "cell_type": "markdown",
   "metadata": {},
   "source": [
    "下面我们定义一个二叉树期权模型，这个模型有一个重要的函数叫做price。"
   ]
  },
  {
   "cell_type": "code",
   "execution_count": 2,
   "metadata": {
    "collapsed": true
   },
   "outputs": [],
   "source": [
    "import numpy as np\n",
    "#from stock_option import stockoption\n",
    "import math\n",
    "\n",
    "\n",
    "class binomial_option(stockoption):\n",
    "    '''\n",
    "    calculate required preliminary parameters:\n",
    "    u = factor change of upstate\n",
    "    d = factor change of downstate\n",
    "    qu = risk free upstate probability\n",
    "    qd = risk free downstate probability\n",
    "    M = number of nodes\n",
    "    '''\n",
    "    def __int_prms__(self):\n",
    "        self.M = self.N + 1 \n",
    "        self.u = math.exp(self.sigma*math.sqrt(self.dt))\n",
    "        self.d = 1./self.u\n",
    "        self.qu = (math.exp((self.r-self.div)*self.dt)-self.d)/(self.u-self.d)\n",
    "        self.qd = 1-self.qu\n",
    "        \n",
    "    def stocktree(self):\n",
    "        stocktree = np.zeros([self.M, self.M])\n",
    "        for i in range(self.M):\n",
    "            for j in range(self.M):\n",
    "                stocktree[j, i] = self.S0*(self.u**(i-j))*(self.d**j)\n",
    "        return stocktree\n",
    "\n",
    "    def option_price(self, stocktree):\n",
    "        option = np.zeros([self.M, self.M])\n",
    "        if self.is_call:\n",
    "            option[:, self.M-1] = np.maximum(np.zeros(self.M), (stocktree[:, self.N] - self.K))\n",
    "        else:\n",
    "            option[:, self.M-1] = np.maximum(np.zeros(self.M), (self.K - stocktree[:, self.N]))\n",
    "        return option\n",
    "\n",
    "    def optpricetree(self, option):\n",
    "        for i in np.arange(self.M-2, -1, -1):\n",
    "            for j in range(0, i+1):\n",
    "                option[j, i] = math.exp(-self.r*self.dt) * (self.qu*option[j, i+1]+self.qd*option[j+1, i+1])\n",
    "        return option\n",
    "\n",
    "    def begin_tree(self):\n",
    "        stocktree = self.stocktree()\n",
    "        payoff = self.option_price(stocktree)\n",
    "        return self.optpricetree(payoff)\n",
    "\n",
    "    def price(self):\n",
    "        self.__int_prms__()\n",
    "        self.stocktree()\n",
    "        payoff = self.begin_tree()\n",
    "        return payoff[0, 0]\n"
   ]
  },
  {
   "cell_type": "code",
   "execution_count": 11,
   "metadata": {},
   "outputs": [
    {
     "name": "stdout",
     "output_type": "stream",
     "text": [
      "[*********************100%***********************]  1 of 1 downloaded\n",
      "3.653287251890409\n"
     ]
    }
   ],
   "source": [
    "#from eu_option import euro_option\n",
    "\n",
    "option_eu = binomial_option(217.58, 215, 0.05, 0.1, 40, {'tk': 'AAPL', 'is_calc': True, 'start': '2017-12-18',\n",
    "                                                     'end': '2018-12-18', 'eu_option':False})\n",
    "#option_eu2 = euro_option(217.58, 215, 0.05, 0.1, 40, {'tk': 'AAPL', 'is_calc': True, 'use_garch': True, 'start': '2017-12-18',\n",
    "#                                                     'end': '2018-12-18', 'eu_option':False})\n",
    "\n",
    "print(option_eu.price())\n",
    "#print(option_eu2.price())\n"
   ]
  },
  {
   "cell_type": "markdown",
   "metadata": {},
   "source": [
    "### 版权归 © 稀牛学院 所有 保留所有权利\n",
    "![](http://pic1.tsingdataedu.com/%E7%A8%80%E7%89%9B%20x%20%E7%BD%91%E6%98%93.png)"
   ]
  }
 ],
 "metadata": {
  "kernelspec": {
   "display_name": "Python 3",
   "language": "python",
   "name": "python3"
  },
  "language_info": {
   "codemirror_mode": {
    "name": "ipython",
    "version": 3
   },
   "file_extension": ".py",
   "mimetype": "text/x-python",
   "name": "python",
   "nbconvert_exporter": "python",
   "pygments_lexer": "ipython3",
   "version": "3.5.2"
  }
 },
 "nbformat": 4,
 "nbformat_minor": 2
}
